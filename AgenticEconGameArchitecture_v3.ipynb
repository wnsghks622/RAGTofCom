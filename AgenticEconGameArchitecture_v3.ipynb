{
  "nbformat": 4,
  "nbformat_minor": 0,
  "metadata": {
    "colab": {
      "provenance": [],
      "include_colab_link": true
    },
    "kernelspec": {
      "name": "python3",
      "display_name": "Python 3"
    },
    "language_info": {
      "name": "python"
    }
  },
  "cells": [
    {
      "cell_type": "markdown",
      "metadata": {
        "id": "view-in-github",
        "colab_type": "text"
      },
      "source": [
        "<a href=\"https://colab.research.google.com/github/wnsghks622/RAGTofCom/blob/main/AgenticEconGameArchitecture_v3.ipynb\" target=\"_parent\"><img src=\"https://colab.research.google.com/assets/colab-badge.svg\" alt=\"Open In Colab\"/></a>"
      ]
    },
    {
      "cell_type": "code",
      "execution_count": null,
      "metadata": {
        "colab": {
          "base_uri": "https://localhost:8080/"
        },
        "id": "unrGf-s3p5Ce",
        "outputId": "e63d363f-566c-45f6-e341-0c8e1e822310"
      },
      "outputs": [
        {
          "output_type": "stream",
          "name": "stdout",
          "text": [
            "\u001b[?25l   \u001b[90m━━━━━━━━━━━━━━━━━━━━━━━━━━━━━━━━━━━━━━━━\u001b[0m \u001b[32m0.0/148.7 kB\u001b[0m \u001b[31m?\u001b[0m eta \u001b[36m-:--:--\u001b[0m\r\u001b[2K   \u001b[91m━━━━━━━━━━━━━━━━━━━━━━━━━━━━━━━━━━━━━━\u001b[0m\u001b[91m╸\u001b[0m\u001b[90m━\u001b[0m \u001b[32m143.4/148.7 kB\u001b[0m \u001b[31m28.5 MB/s\u001b[0m eta \u001b[36m0:00:01\u001b[0m\r\u001b[2K   \u001b[90m━━━━━━━━━━━━━━━━━━━━━━━━━━━━━━━━━━━━━━━━\u001b[0m \u001b[32m148.7/148.7 kB\u001b[0m \u001b[31m3.5 MB/s\u001b[0m eta \u001b[36m0:00:00\u001b[0m\n",
            "\u001b[2K   \u001b[90m━━━━━━━━━━━━━━━━━━━━━━━━━━━━━━━━━━━━━━━━\u001b[0m \u001b[32m412.7/412.7 kB\u001b[0m \u001b[31m11.8 MB/s\u001b[0m eta \u001b[36m0:00:00\u001b[0m\n",
            "\u001b[2K   \u001b[90m━━━━━━━━━━━━━━━━━━━━━━━━━━━━━━━━━━━━━━━━\u001b[0m \u001b[32m2.5/2.5 MB\u001b[0m \u001b[31m35.0 MB/s\u001b[0m eta \u001b[36m0:00:00\u001b[0m\n",
            "\u001b[2K   \u001b[90m━━━━━━━━━━━━━━━━━━━━━━━━━━━━━━━━━━━━━━━━\u001b[0m \u001b[32m121.9/121.9 kB\u001b[0m \u001b[31m6.0 MB/s\u001b[0m eta \u001b[36m0:00:00\u001b[0m\n",
            "\u001b[2K   \u001b[90m━━━━━━━━━━━━━━━━━━━━━━━━━━━━━━━━━━━━━━━━\u001b[0m \u001b[32m44.7/44.7 kB\u001b[0m \u001b[31m1.6 MB/s\u001b[0m eta \u001b[36m0:00:00\u001b[0m\n",
            "\u001b[2K   \u001b[90m━━━━━━━━━━━━━━━━━━━━━━━━━━━━━━━━━━━━━━━━\u001b[0m \u001b[32m50.9/50.9 kB\u001b[0m \u001b[31m2.1 MB/s\u001b[0m eta \u001b[36m0:00:00\u001b[0m\n",
            "\u001b[?25h"
          ]
        }
      ],
      "source": [
        "%pip install langgraph langsmith langchain_groq langchain_core langchain_community --quiet"
      ]
    },
    {
      "cell_type": "code",
      "source": [
        "from langgraph.graph import Graph, StateGraph, START, END\n",
        "from langchain_groq import ChatGroq\n",
        "from langchain_core.prompts import PromptTemplate\n",
        "from langchain.chat_models.base import BaseChatModel\n",
        "from langchain_core.messages import BaseMessage # message abstraction\n",
        "\n",
        "from typing import TypedDict, Annotated, Sequence, Callable, List, Dict, Literal\n",
        "from dataclasses import dataclass, field\n",
        "from collections import defaultdict\n",
        "from typing_extensions import TypedDict\n",
        "import pprint as pp\n",
        "import operator\n",
        "import numpy as np\n",
        "\n",
        "import os, getpass\n",
        "from IPython.display import Image, display\n",
        "\n",
        "# utility to visualize the workflow created\n",
        "def visualize_workflow(workflow):\n",
        "    display(Image(workflow.get_graph().draw_mermaid_png()))\n",
        "\n",
        "def _set_env(var: str):\n",
        "    if not os.environ.get(var):\n",
        "        os.environ[var] = getpass.getpass(f\"{var}: \")\n",
        "\n",
        "_set_env(\"GROQ_API_KEY\")"
      ],
      "metadata": {
        "colab": {
          "base_uri": "https://localhost:8080/"
        },
        "id": "Ot1PuACIp8bU",
        "outputId": "aa7442ae-2fd4-4e51-8dbe-2d37ebd8bba9"
      },
      "execution_count": null,
      "outputs": [
        {
          "name": "stdout",
          "output_type": "stream",
          "text": [
            "GROQ_API_KEY: ··········\n"
          ]
        }
      ]
    },
    {
      "cell_type": "code",
      "source": [],
      "metadata": {
        "id": "uxuQtqgvqC1Q"
      },
      "execution_count": null,
      "outputs": []
    },
    {
      "cell_type": "markdown",
      "source": [
        "### Version 3\n",
        "\n",
        "\n",
        "The Player class represents an individual agent in the game system. It encapsulates the agent's identity, decision-making capabilities, and personal characteristics.\n",
        "Attributes\n",
        "\n",
        "- `id`: A unique integer identifier for the player\n",
        "- `llm`: A language model instance used for decision-making (BaseChatModel)\n",
        "- `prompt_template`: A template for formatting prompts sent to the language model\n",
        "- `name`: The player's display name (defaults to \"Player_{id}\")\n",
        "- `profile`: Additional player characteristics or parameters (optional)\n",
        "\n",
        "Methods\n",
        "\n",
        "`__post_init__()`: Automatically assigns a default name if none is provided"
      ],
      "metadata": {
        "id": "dKj5qKQD4f8Q"
      }
    },
    {
      "cell_type": "code",
      "source": [
        "@dataclass\n",
        "class Player:\n",
        "    id: int\n",
        "    llm: BaseChatModel\n",
        "    prompt_template: PromptTemplate\n",
        "    name: str = None\n",
        "    profile: str = None\n",
        "\n",
        "    def __post_init__(self):\n",
        "        if self.name is None:\n",
        "            self.name = f\"Player_{self.id}\"\n"
      ],
      "metadata": {
        "id": "LVZwTMsw6Blj"
      },
      "execution_count": null,
      "outputs": []
    },
    {
      "cell_type": "markdown",
      "source": [
        "The `GameStatistics` class maintains comprehensive records of game progression and outcomes. It tracks individual player actions and aggregate game metrics.\n",
        "Attributes\n",
        "\n",
        "- `rounds_played`: Counter for completed game rounds\n",
        "- `total_claimed`: Sum of all resources claimed by players\n",
        "- `player_claims`: Dictionary mapping player IDs to their claim history\n",
        "- `final_pot`: Remaining resources at game end\n",
        "- `game_completed`: Boolean indicating if the game has concluded\n",
        "- `end_condition`: Game termination reason (POT_DEPLETED, MAX_ITERATIONS, or ONGOING)\n",
        "\n",
        "Methods\n",
        "\n",
        "`compute_summary()`: Generates a detailed statistical report including:\n",
        "\n",
        "- Overall game metrics (rounds played, total claims)\n",
        "- Per-player statistics (average, maximum, minimum claims)\n",
        "- Resource depletion analysis\n",
        "- Game termination details"
      ],
      "metadata": {
        "id": "I2BjMIIjVUkW"
      }
    },
    {
      "cell_type": "code",
      "source": [
        "@dataclass\n",
        "class GameStatistics:\n",
        "    rounds_played: int = 0\n",
        "    total_claimed: int = 0\n",
        "    player_claims: Dict[int, List[int]] = field(default_factory=lambda: defaultdict(list))\n",
        "    final_pot: int = 0\n",
        "    game_completed: bool = False\n",
        "    end_condition: Literal[\"POT_DEPLETED\", \"MAX_ITERATIONS\", \"ONGOING\"] = \"ONGOING\"\n",
        "\n",
        "    def compute_summary(self) -> Dict:\n",
        "        \"\"\"Compute summary statistics for the game\"\"\"\n",
        "        if not self.game_completed:\n",
        "            return {\"status\": \"Game not completed\"}\n",
        "\n",
        "        return {\n",
        "            \"rounds_played\": self.rounds_played,\n",
        "            \"total_claimed\": self.total_claimed,\n",
        "            \"end_condition\": self.end_condition,\n",
        "            \"average_claimed_per_round\": self.total_claimed / self.rounds_played if self.rounds_played > 0 else 0,\n",
        "            \"player_statistics\": {\n",
        "                player_id: {\n",
        "                    \"total_claimed\": sum(claims),\n",
        "                    \"average_claim\": np.mean(claims),\n",
        "                    \"max_claim\": max(claims),\n",
        "                    \"min_claim\": min(claims),\n",
        "                    \"std_claim\": np.std(claims) if len(claims) > 1 else 0,\n",
        "                    \"decisions_by_round\": claims\n",
        "                }\n",
        "                for player_id, claims in self.player_claims.items()\n",
        "            },\n",
        "            \"final_pot\": self.final_pot,\n",
        "            \"resource_depletion_rate\": (self.total_claimed / self.rounds_played) if self.rounds_played > 0 else 0\n",
        "        }"
      ],
      "metadata": {
        "id": "FNXvSr0lVQnC"
      },
      "execution_count": null,
      "outputs": []
    },
    {
      "cell_type": "markdown",
      "source": [
        "The `GameState` class defines the structure for maintaining the current state of the game. It uses TypedDict for strict type checking and includes annotations for sequence operations.\n",
        "Attributes\n",
        "\n",
        "- `messages`: Sequence of game event messages\n",
        "- `players_pot`: Current total resources claimed by players\n",
        "- `game_pot`: Remaining resources in the game\n",
        "- `iterations`: Maximum number of game rounds\n",
        "- `stage_number`: Current round number\n",
        "- `p1_decisions`: History of Player 1's decisions\n",
        "- `p2_decisions`: History of Player 2's decisions\n",
        "\n",
        "This state management system supports tracking both individual player actions and aggregate game progress while maintaining type safety through Python's typing system."
      ],
      "metadata": {
        "id": "WwLpA9-_VT7z"
      }
    },
    {
      "cell_type": "code",
      "source": [
        "class GameState(TypedDict):\n",
        "    messages: Annotated[Sequence[str], operator.add]\n",
        "    players_pot: int\n",
        "    game_pot: int\n",
        "    iterations: int\n",
        "    stage_number: int\n",
        "    p1_decisions: Annotated[Sequence[str], operator.add]\n",
        "    p2_decisions: Annotated[Sequence[str], operator.add]"
      ],
      "metadata": {
        "id": "AytmORuTVQrF"
      },
      "execution_count": null,
      "outputs": []
    },
    {
      "cell_type": "markdown",
      "source": [
        "The `AgenticGame` class implements a multi-agent game framework where players interact through a directed graph architecture to make decisions about resource allocation. The class orchestrates game flow, manages state transitions, and collects statistics about player behavior and game outcomes.\n",
        "\n",
        "The class is built around three primary components:\n",
        "\n",
        "- A state management system that tracks game progression\n",
        "- A node-based architecture that processes player decisions\n",
        "- A statistical tracking system that analyzes game outcomes\n",
        "\n",
        "**Initialization Parameters**\n",
        "\n",
        "- `game_state`: A TypedDict containing the initial state of the game\n",
        "- `players`: A list of Player objects representing game participants\n",
        "- `state_parameters`: A dictionary containing game configuration parameters, including:\n",
        "    - `game_pot`: Initial resource amount available\n",
        "    - `iterations`: Maximum number of game rounds\n",
        "\n",
        "**Key Methods**\n",
        "\n",
        "*Graph Creation and Management*\n",
        "\n",
        "`def create_graph(self)`\n",
        "\n",
        "Creates a directed graph that defines the game's flow. The graph consists of several node types:\n",
        "\n",
        "- Supervisor Node: Controls game progression and stage transitions\n",
        "- Player Nodes: Handle individual player decision-making\n",
        "- Aggregator Node: Processes and combines player decisions\n",
        "\n",
        "*Game Execution*\n",
        "\n",
        "`def run_game(self)`\n",
        "\n",
        "Executes the game by:\n",
        "\n",
        "- Validating graph creation\n",
        "- Streaming state updates through the node network\n",
        "- Processing player decisions\n",
        "- Updating game statistics\n",
        "\n",
        "*Statistical Analysis*\n",
        "\n",
        "`def get_game_statistics(self) -> Dict`\n",
        "\n",
        "`def plot_game_statistics(self)`\n",
        "\n",
        "These methods provide analytical capabilities:\n",
        "\n",
        "- get_game_statistics(): Returns computed game metrics\n",
        "- plot_game_statistics(): Generates visualizations of game progression and outcomes using matplotlib\n",
        "\n",
        "*Node Architecture*\n",
        "\n",
        "***Supervisor Node***\n",
        "\n",
        "`def _create_supervisor_node(self) -> Callable`\n",
        "\n",
        "Manages game stages and round transitions. Increments the round counter and generates stage announcements.\n",
        "\n",
        "***Player Node***\n",
        "\n",
        "`def _create_player_node(self, player_id: int) -> Callable`\n",
        "\n",
        "Handles individual player decision-making by:\n",
        "\n",
        "- Formatting player-specific prompts\n",
        "- Invoking the language model for decisions\n",
        "- Validating and recording player claims\n",
        "\n",
        "***Aggregator Node***\n",
        "\n",
        "`def _create_aggregator_node(self) -> Callable`\n",
        "\n",
        "Processes collective player decisions by:\n",
        "\n",
        "- Summing player claims\n",
        "- Updating the game pot\n",
        "- Advancing the game stage\n",
        "\n",
        "**Error Handling**\n",
        "\n",
        "The class implements several validation checks:\n",
        "\n",
        "- Ensures at least one player is provided\n",
        "- Validates player ID uniqueness\n",
        "- Verifies graph creation before game execution\n",
        "- Handles invalid player decisions gracefully\n",
        "\n",
        "**Game Termination**\n",
        "\n",
        "Games can end under two conditions:\n",
        "\n",
        "- POT_DEPLETED: When available resources are exhausted\n",
        "- MAX_ITERATIONS: When the maximum number of rounds is reached\n",
        "\n",
        "These conditions are tracked in the GameStatistics instance and can be analyzed post-game.\n",
        "\n",
        "**Implementation Considerations**\n",
        "\n",
        "When using this class, consider:\n",
        "\n",
        "- Language model configuration affects player decision quality\n",
        "- Prompt template design is crucial for consistent player behavior\n",
        "- Graph structure determines game flow and interaction patterns\n",
        "- Statistical analysis provides insights into emergent player strategies\n",
        "\n",
        "This implementation supports research into multi-agent behavior, resource allocation dynamics, and language model-based decision-making in structured environments."
      ],
      "metadata": {
        "id": "6NwSLQ72WIKo"
      }
    },
    {
      "cell_type": "code",
      "source": [
        "class AgenticGame:\n",
        "    def __init__(self,\n",
        "                 game_state: TypedDict,\n",
        "                 players: List[Player],\n",
        "                 state_parameters: dict):\n",
        "\n",
        "        self.game_state = game_state\n",
        "        self.players = {player.id: player for player in players}\n",
        "        self.state_parameters = state_parameters\n",
        "        self.graph = None\n",
        "        self.stats = GameStatistics()\n",
        "        self.initial_pot = state_parameters['game_pot']\n",
        "        self.max_iterations = state_parameters['iterations']\n",
        "\n",
        "        # Validate players\n",
        "        if not players:\n",
        "            raise ValueError(\"At least one player must be provided\")\n",
        "        if len(set(p.id for p in players)) != len(players):\n",
        "            raise ValueError(\"Player IDs must be unique\")\n",
        "\n",
        "        # Create node functions that only take state as parameter\n",
        "        self.nodes = {\n",
        "            \"supervisor\": self._create_supervisor_node(),\n",
        "            **{f\"player{p.id}\": self._create_player_node(p.id) for p in players},\n",
        "            \"aggregator\": self._create_aggregator_node(),\n",
        "        }\n",
        "\n",
        "    def _create_supervisor_node(self) -> Callable:\n",
        "        def supervisor_node(state: GameState) -> GameState:\n",
        "            self.stats.rounds_played += 1\n",
        "            return {\n",
        "                'messages': [f\"---- Stage {state['stage_number']} ----\"]\n",
        "            }\n",
        "        return supervisor_node\n",
        "\n",
        "    def _create_player_node(self, player_id: int) -> Callable:\n",
        "        player = self.players[player_id]\n",
        "\n",
        "        def player_node(state: GameState) -> GameState:\n",
        "            prompt = player.prompt_template.format(\n",
        "                num_players=len(self.players),\n",
        "                game_pot=state['game_pot'],\n",
        "                stages_left=state['iterations'] - state['stage_number'],\n",
        "                profile=player.profile\n",
        "            )\n",
        "\n",
        "            decision = player.llm.invoke(prompt).content\n",
        "            # Store the decision in our statistics\n",
        "            try:\n",
        "                claim = int(decision) # right now this logic depends on the LLM returning a single integer. Could be updated with more robust parsing, but better to work on prompt first\n",
        "                self.stats.player_claims[player_id].append(claim)\n",
        "            except ValueError:\n",
        "                print(f\"Warning: {player.name} made invalid decision: {decision}\")\n",
        "                claim = 0\n",
        "                self.stats.player_claims[player_id].append(claim)\n",
        "\n",
        "            return {\n",
        "                'messages': [str(claim)],\n",
        "                f'p{player_id}_decisions': [str(claim)]\n",
        "            }\n",
        "\n",
        "        return player_node\n",
        "\n",
        "    def _create_aggregator_node(self) -> Callable:\n",
        "        def aggregator_node(state: GameState) -> GameState:\n",
        "            try:\n",
        "                players_aggregate = sum([int(decision) for decision in state['messages'][-len(self.players):]])\n",
        "                self.stats.total_claimed += players_aggregate\n",
        "\n",
        "                new_pot = state['game_pot'] - players_aggregate\n",
        "                self.stats.final_pot = new_pot\n",
        "\n",
        "                return {\n",
        "                    'players_pot': players_aggregate,\n",
        "                    'game_pot': new_pot,\n",
        "                    'stage_number': state['stage_number'] + 1\n",
        "                }\n",
        "            except ValueError:\n",
        "                print(\"Warning: Invalid decision format in aggregator\")\n",
        "                return {\n",
        "                    'players_pot': 0,\n",
        "                    'game_pot': state['game_pot'],\n",
        "                    'stage_number': state['stage_number'] + 1\n",
        "                }\n",
        "        return aggregator_node\n",
        "\n",
        "    def _decision_node(self, state: GameState) -> bool:\n",
        "        should_continue = state['game_pot'] > 0 and state['iterations'] > state['stage_number']\n",
        "\n",
        "        if not should_continue:\n",
        "            self.stats.game_completed = True\n",
        "            if state['game_pot'] <= 0:\n",
        "                self.stats.end_condition = \"POT_DEPLETED\"\n",
        "            elif state['iterations'] <= state['stage_number']:\n",
        "                self.stats.end_condition = \"MAX_ITERATIONS\"\n",
        "\n",
        "        return should_continue\n",
        "\n",
        "    def create_graph(self):\n",
        "        graph = StateGraph(self.game_state)\n",
        "\n",
        "        # Add nodes using the factory-created node functions\n",
        "        for node_name, node_func in self.nodes.items():\n",
        "            graph.add_node(node_name, node_func)\n",
        "\n",
        "        # Add edges\n",
        "        graph.add_edge(START, 'supervisor')\n",
        "\n",
        "        # Add edges from supervisor to each player\n",
        "        for player_id in self.players:\n",
        "            graph.add_edge('supervisor', f'player{player_id}')\n",
        "\n",
        "        # Add edges from each player to aggregator\n",
        "        for player_id in self.players:\n",
        "            graph.add_edge(f'player{player_id}', 'aggregator')\n",
        "\n",
        "        graph.add_conditional_edges(\n",
        "            'aggregator',\n",
        "            self._decision_node,\n",
        "            {\n",
        "                True: 'supervisor',\n",
        "                False: END\n",
        "            }\n",
        "        )\n",
        "\n",
        "        self.graph = graph.compile()\n",
        "\n",
        "    def run_game(self):\n",
        "        if self.graph is None:\n",
        "            raise ValueError(\"Graph not created. Call create_graph() first.\")\n",
        "\n",
        "        for chunk in self.graph.stream(self.state_parameters, stream_mode='values'):\n",
        "            print(chunk)\n",
        "\n",
        "    def get_game_statistics(self) -> Dict:\n",
        "        \"\"\"Return computed statistics about the game\"\"\"\n",
        "        if not self.stats.game_completed:\n",
        "            print(\"Warning: Getting statistics for incomplete game\")\n",
        "        return self.stats.compute_summary()\n",
        "\n",
        "    def plot_game_statistics(self):\n",
        "        \"\"\"Create visualizations of game statistics\"\"\"\n",
        "        if not self.stats.game_completed:\n",
        "            print(\"Cannot plot statistics for incomplete game\")\n",
        "            return\n",
        "\n",
        "        try:\n",
        "            import matplotlib.pyplot as plt\n",
        "\n",
        "            # Create figure and axis\n",
        "            fig, (ax1, ax2) = plt.subplots(1, 2, figsize=(15, 6))\n",
        "\n",
        "            # Plot 1: Player decisions over time\n",
        "            for player_id, claims in self.stats.player_claims.items():\n",
        "                player = self.players[player_id]\n",
        "                ax1.plot(range(1, len(claims) + 1), claims,\n",
        "                        label=f'{player.name}',\n",
        "                        marker='o')\n",
        "\n",
        "            ax1.set_title('Player Decisions by Round')\n",
        "            ax1.set_xlabel('Round')\n",
        "            ax1.set_ylabel('Decision Amount')\n",
        "            ax1.legend()\n",
        "            ax1.grid(True)\n",
        "\n",
        "            # Plot 2: Remaining pot over time\n",
        "            remaining_pot = [self.initial_pot]\n",
        "            for round_num in range(len(list(self.stats.player_claims.values())[0])):\n",
        "                round_claims = sum(player_claims[round_num]\n",
        "                                 for player_claims in self.stats.player_claims.values())\n",
        "                remaining_pot.append(remaining_pot[-1] - round_claims)\n",
        "\n",
        "            ax2.plot(range(len(remaining_pot)), remaining_pot,\n",
        "                    label='Remaining Pot', marker='s', color='green')\n",
        "            ax2.set_title(f'Pot Depletion\\nEnd Condition: {self.stats.end_condition}')\n",
        "            ax2.set_xlabel('Round')\n",
        "            ax2.set_ylabel('Pot Amount')\n",
        "            ax2.legend()\n",
        "            ax2.grid(True)\n",
        "\n",
        "            plt.tight_layout()\n",
        "            plt.show()\n",
        "\n",
        "        except ImportError:\n",
        "            print(\"matplotlib is required for plotting. Please install it first.\")"
      ],
      "metadata": {
        "id": "s5wth6Xh3ci9"
      },
      "execution_count": null,
      "outputs": []
    },
    {
      "cell_type": "code",
      "source": [
        "# prompt v1 - no memory of past decisions\n",
        "player_prompt_template = '''\n",
        "    You are one out of {num_players} players in an economic game with the following behavioral profile:\n",
        "    {profile}\n",
        "    -----\n",
        "    You must choose how much of the {game_pot} dollars pot to claim for yourself.\n",
        "    Other players will make their decisions simultaneously.\n",
        "    Your goal is to maximize your profits (i.e., how much you are left with at the end of the game).\n",
        "    If the total pot is depleted then the game ends and no player receives revenue.\n",
        "    There are {stages_left} rounds left to play.\n",
        "\n",
        "    Your response must only contain the single integer between 0 and {game_pot} representing your decision.\n",
        "'''\n",
        "\n",
        "player_prompt = PromptTemplate(\n",
        "    input_variables=[\"num_players\", \"profile\", \"game_pot\", \"stages_left\"],\n",
        "    template=player_prompt_template,\n",
        ")"
      ],
      "metadata": {
        "id": "9drfeyaF7EEN"
      },
      "execution_count": null,
      "outputs": []
    },
    {
      "cell_type": "code",
      "source": [
        "# test run\n",
        "test_input = {'messages': [],\n",
        "              'players_pot': 0,\n",
        "              'game_pot': 100,\n",
        "              'iterations': 5,\n",
        "              'stage_number': 1,\n",
        "              'p1_decisions': [],\n",
        "              'p2_decisions': []\n",
        "              }\n",
        "\n",
        "# Create different LLMs for different players\n",
        "llm1 = ChatGroq(model_name=\"llama-3.3-70b-versatile\", temperature=0)\n",
        "llm2 = ChatGroq(model_name=\"llama3-8b-8192\", temperature=0)\n",
        "llm3 = ChatGroq(model_name=\"mixtral-8x7b-32768\", temperature=0)\n",
        "\n",
        "# Create players with different configurations\n",
        "players = [\n",
        "    Player(\n",
        "        id=1,\n",
        "        name=\"Conservative\",\n",
        "        profile=\"You are a conservative agent\", # should be replaced by RAG profile\n",
        "        llm=llm1,\n",
        "        prompt_template=player_prompt\n",
        "    ),\n",
        "    Player(\n",
        "        id=2,\n",
        "        name=\"Agressive\",\n",
        "        profile=\"You are an agressive agent\", # should be replaced by RAG profile\n",
        "        llm=llm1,\n",
        "        prompt_template=player_prompt\n",
        "    ),\n",
        "    Player(\n",
        "        id=3,\n",
        "        name=\"Progressive\",\n",
        "        profile=\"You are a progressive agent\", # should be replaced by RAG profile\n",
        "        llm=llm1,\n",
        "        prompt_template=player_prompt\n",
        "    ) # add more players if you want\n",
        "]\n",
        "\n",
        "# Create and run game\n",
        "game = AgenticGame(\n",
        "    game_state=GameState,\n",
        "    players=players,\n",
        "    state_parameters=test_input\n",
        ")\n",
        "game.create_graph()\n",
        "game.run_game()\n"
      ],
      "metadata": {
        "colab": {
          "base_uri": "https://localhost:8080/"
        },
        "id": "VejO_drm4lDB",
        "outputId": "6af24809-1c12-440c-a48c-600af9588315"
      },
      "execution_count": null,
      "outputs": [
        {
          "output_type": "stream",
          "name": "stdout",
          "text": [
            "{'messages': [], 'players_pot': 0, 'game_pot': 100, 'iterations': 5, 'stage_number': 1, 'p1_decisions': [], 'p2_decisions': []}\n",
            "{'messages': ['---- Stage 1 ----'], 'players_pot': 0, 'game_pot': 100, 'iterations': 5, 'stage_number': 1, 'p1_decisions': [], 'p2_decisions': []}\n",
            "{'messages': ['---- Stage 1 ----', '20', '50', '25'], 'players_pot': 0, 'game_pot': 100, 'iterations': 5, 'stage_number': 1, 'p1_decisions': ['20'], 'p2_decisions': ['50']}\n",
            "{'messages': ['---- Stage 1 ----', '20', '50', '25'], 'players_pot': 95, 'game_pot': 5, 'iterations': 5, 'stage_number': 2, 'p1_decisions': ['20'], 'p2_decisions': ['50']}\n",
            "{'messages': ['---- Stage 1 ----', '20', '50', '25', '---- Stage 2 ----'], 'players_pot': 95, 'game_pot': 5, 'iterations': 5, 'stage_number': 2, 'p1_decisions': ['20'], 'p2_decisions': ['50']}\n",
            "{'messages': ['---- Stage 1 ----', '20', '50', '25', '---- Stage 2 ----', '1', '5', '2'], 'players_pot': 95, 'game_pot': 5, 'iterations': 5, 'stage_number': 2, 'p1_decisions': ['20', '1'], 'p2_decisions': ['50', '5']}\n",
            "{'messages': ['---- Stage 1 ----', '20', '50', '25', '---- Stage 2 ----', '1', '5', '2'], 'players_pot': 8, 'game_pot': -3, 'iterations': 5, 'stage_number': 3, 'p1_decisions': ['20', '1'], 'p2_decisions': ['50', '5']}\n"
          ]
        }
      ]
    },
    {
      "cell_type": "code",
      "source": [
        "# Get statistics and plot results\n",
        "stats = game.get_game_statistics()\n",
        "pp.pprint(stats)"
      ],
      "metadata": {
        "colab": {
          "base_uri": "https://localhost:8080/"
        },
        "id": "mkyA6qug55B3",
        "outputId": "28bfb222-5501-4882-813c-23792652f7c7"
      },
      "execution_count": null,
      "outputs": [
        {
          "output_type": "stream",
          "name": "stdout",
          "text": [
            "{'average_claimed_per_round': 51.5,\n",
            " 'end_condition': 'POT_DEPLETED',\n",
            " 'final_pot': -3,\n",
            " 'player_statistics': {1: {'average_claim': 10.5,\n",
            "                           'decisions_by_round': [20, 1],\n",
            "                           'max_claim': 20,\n",
            "                           'min_claim': 1,\n",
            "                           'std_claim': 9.5,\n",
            "                           'total_claimed': 21},\n",
            "                       2: {'average_claim': 27.5,\n",
            "                           'decisions_by_round': [50, 5],\n",
            "                           'max_claim': 50,\n",
            "                           'min_claim': 5,\n",
            "                           'std_claim': 22.5,\n",
            "                           'total_claimed': 55},\n",
            "                       3: {'average_claim': 13.5,\n",
            "                           'decisions_by_round': [25, 2],\n",
            "                           'max_claim': 25,\n",
            "                           'min_claim': 2,\n",
            "                           'std_claim': 11.5,\n",
            "                           'total_claimed': 27}},\n",
            " 'resource_depletion_rate': 51.5,\n",
            " 'rounds_played': 2,\n",
            " 'total_claimed': 103}\n"
          ]
        }
      ]
    },
    {
      "cell_type": "code",
      "source": [
        "game.plot_game_statistics()"
      ],
      "metadata": {
        "colab": {
          "base_uri": "https://localhost:8080/",
          "height": 574
        },
        "id": "fpLAJgPe4oXf",
        "outputId": "121944b2-c299-4fa2-c37b-26c7f0b8acab"
      },
      "execution_count": null,
      "outputs": [
        {
          "output_type": "display_data",
          "data": {
            "text/plain": [
              "<Figure size 1500x600 with 2 Axes>"
            ],
            "image/png": "[encoded data removed]"
          },
          "metadata": {}
        }
      ]
    },
    {
      "cell_type": "code",
      "source": [],
      "metadata": {
        "id": "r2LugEWiu0vt"
      },
      "execution_count": null,
      "outputs": []
    }
  ]
}